{
 "cells": [
  {
   "cell_type": "code",
   "execution_count": null,
   "metadata": {},
   "outputs": [],
   "source": [
    "import pandas as pd\n",
    "import pickle as pk\n",
    "import matplotlib.pyplot as plt\n",
    "import networkx as nx\n",
    "from itertools import combinations\n",
    "from tqdm import  tqdm\n",
    "import seaborn as sns"
   ]
  },
  {
   "cell_type": "code",
   "execution_count": null,
   "metadata": {},
   "outputs": [],
   "source": [
    "sns.set()"
   ]
  },
  {
   "cell_type": "code",
   "execution_count": null,
   "metadata": {},
   "outputs": [],
   "source": [
    "addressBook = {\"serializedData\": \"./SerializedData/\",\n",
    "              \"excel\": \"./Excel/\" }"
   ]
  },
  {
   "cell_type": "code",
   "execution_count": null,
   "metadata": {},
   "outputs": [],
   "source": [
    "allPapers = pk.loads(open(addressBook[\"serializedData\"]+\"allPapers.dic\", \"rb\").read())\n",
    "annualPapers = pk.loads(open(addressBook[\"serializedData\"]+\"annualPapers.dic\", \"rb\").read())"
   ]
  },
  {
   "cell_type": "code",
   "execution_count": null,
   "metadata": {},
   "outputs": [],
   "source": [
    "### Co-Authorship Network Formation ###\n",
    "AU, AF, BA, BF, BE = 0, 0, 0, 0, 0\n",
    "\n",
    "for doi, paper in allPapers.items():\n",
    "    if paper[\"AU\"] != '':\n",
    "        AU+=1\n",
    "    elif paper[\"AF\"] != '':\n",
    "        AF+=1\n",
    "    elif paper[\"BA\"] != '':\n",
    "        BA+=1\n",
    "    elif paper[\"BF\"] != '':\n",
    "        BF+=1\n",
    "    elif paper[\"BE\"] != '':\n",
    "        BE+=1"
   ]
  },
  {
   "cell_type": "code",
   "execution_count": null,
   "metadata": {},
   "outputs": [],
   "source": [
    "# Static Co-Authorship Network #\n",
    "coauthorshipDict = {}\n",
    "nodes = set()\n",
    "for doi, paper in allPapers.items():\n",
    "    authors = [auth.strip() for auth in paper[\"AU\"].split(\";\")]\n",
    "    if len(authors) == 0:\n",
    "        continue\n",
    "    elif len(authors) == 1:\n",
    "        nodes.add(authors[0])\n",
    "        if (authors[0],authors[0]) in coauthorshipDict.keys():\n",
    "            coauthorshipDict[(authors[0],authors[0])] += 1\n",
    "        else:\n",
    "            coauthorshipDict[(authors[0], authors[0])] = 1\n",
    "    else:\n",
    "        authors = list(combinations(authors,2))\n",
    "        for state in authors:\n",
    "            nodes.add(state[0])\n",
    "            nodes.add(state[1])\n",
    "            reversedState = state[::-1]\n",
    "            if state in coauthorshipDict.keys():\n",
    "                coauthorshipDict[state] += 1\n",
    "            elif reversedState in coauthorshipDict.keys():\n",
    "                coauthorshipDict[reversedState] += 1\n",
    "            else:\n",
    "                coauthorshipDict[state] = 1"
   ]
  },
  {
   "cell_type": "code",
   "execution_count": null,
   "metadata": {},
   "outputs": [],
   "source": [
    "authorHistogramDynamic_nonDistinctive = {}\n",
    "authorHistogramDynamic_distinctive = {}\n",
    "temporarySet1 = set()\n",
    "for year in annualPapers:\n",
    "    authorsCount = 0\n",
    "    newAuthorsCount = 0\n",
    "    temporarySet2 = set()\n",
    "    for paper_id in annualPapers[year]:\n",
    "        if allPapers[paper_id][\"AU\"] != '':\n",
    "            authors = [auth.strip().rstrip().lower() for auth in allPapers[paper_id][\"AU\"].split(\";\")]\n",
    "        elif allPapers[paper_id][\"AF\"] != '':\n",
    "            authors = [auth.strip().rstrip().lower() for auth in allPapers[paper_id][\"AF\"].split(\";\")]\n",
    "        elif allPapers[paper_id][\"BA\"] != '':\n",
    "            authors = [auth.strip().rstrip().lower() for auth in allPapers[paper_id][\"BA\"].split(\";\")]\n",
    "        elif allPapers[paper_id][\"BF\"] != '':\n",
    "            authors = [auth.strip().rstrip().lower() for auth in allPapers[paper_id][\"BF\"].split(\";\")]\n",
    "        elif allPapers[paper_id][\"BE\"] != '':\n",
    "            authors = [auth.strip().rstrip().lower() for auth in allPapers[paper_id][\"BE\"].split(\";\")]\n",
    "        else:\n",
    "            print(\"@@@@@@@@@@@@@@@@@@@@@@\")\n",
    "        for author in authors:\n",
    "            if author not in temporarySet2:\n",
    "                authorsCount += 1\n",
    "                temporarySet2.add(author)\n",
    "            if author not in temporarySet1:\n",
    "                newAuthorsCount += 1\n",
    "                temporarySet1.add(author)\n",
    "    authorHistogramDynamic_nonDistinctive[year] = authorsCount\n",
    "    authorHistogramDynamic_distinctive[year] = newAuthorsCount"
   ]
  },
  {
   "cell_type": "code",
   "execution_count": null,
   "metadata": {},
   "outputs": [],
   "source": [
    "newcomersDict = {}\n",
    "incumbentsDict = {}\n",
    "\n",
    "newcomers = []\n",
    "incumbents = []\n",
    "\n",
    "for year in tqdm(annualPapers):\n",
    "    yearlyNewcomers = []\n",
    "    yearlyIncumbents = []\n",
    "    for paper_id in annualPapers[year]:\n",
    "        if allPapers[paper_id][\"AU\"] != '':\n",
    "            authors = [auth.strip().rstrip().lower() for auth in allPapers[paper_id][\"AU\"].split(\";\")]\n",
    "        elif allPapers[paper_id][\"AF\"] != '':\n",
    "            authors = [auth.strip().rstrip().lower() for auth in allPapers[paper_id][\"AF\"].split(\";\")]\n",
    "        elif allPapers[paper_id][\"BA\"] != '':\n",
    "            authors = [auth.strip().rstrip().lower() for auth in allPapers[paper_id][\"BA\"].split(\";\")]\n",
    "        elif allPapers[paper_id][\"BF\"] != '':\n",
    "            authors = [auth.strip().rstrip().lower() for auth in allPapers[paper_id][\"BF\"].split(\";\")]\n",
    "        elif allPapers[paper_id][\"BE\"] != '':\n",
    "            authors = [auth.strip().rstrip().lower() for auth in allPapers[paper_id][\"BE\"].split(\";\")]\n",
    "        else:\n",
    "            print(\"@@@@@@@@@@@@@@@@@@@@@@\")\n",
    "        for author in authors:\n",
    "            if author in newcomers:\n",
    "                newcomers.remove(author)\n",
    "                incumbents.append(author)\n",
    "                yearlyIncumbents.append(author)\n",
    "                if author in yearlyNewcomers:\n",
    "                    yearlyNewcomers.remove(author)\n",
    "            elif author in incumbents:\n",
    "                incumbents.append(author)\n",
    "                yearlyIncumbents.append(author)\n",
    "            else:\n",
    "                newcomers.append(author)\n",
    "                yearlyNewcomers.append(author)\n",
    "    newcomersDict[year] = len(yearlyNewcomers)\n",
    "    incumbentsDict[year] = len(yearlyIncumbents)"
   ]
  },
  {
   "cell_type": "code",
   "execution_count": null,
   "metadata": {},
   "outputs": [],
   "source": [
    "dfNewcomers = pd.DataFrame(columns=[\"Year\", \"Publication\"])\n",
    "for c, year in enumerate(newcomersDict):\n",
    "    dfNewcomers.loc[c] = [int(year), int(newcomersDict[year])]"
   ]
  },
  {
   "cell_type": "code",
   "execution_count": null,
   "metadata": {},
   "outputs": [],
   "source": [
    "dfIncumbents = pd.DataFrame(columns=[\"Year\", \"Publication\"])\n",
    "for c, year in enumerate(incumbentsDict):\n",
    "    dfIncumbents.loc[c] = [int(year), int(incumbentsDict[year])]"
   ]
  },
  {
   "cell_type": "code",
   "execution_count": null,
   "metadata": {},
   "outputs": [],
   "source": [
    "dfIncumbents[\"Year\"] = pd.to_numeric(dfIncumbents[\"Year\"])\n",
    "dfIncumbents[\"Publication\"] = pd.to_numeric(dfIncumbents[\"Publication\"])"
   ]
  },
  {
   "cell_type": "code",
   "execution_count": null,
   "metadata": {},
   "outputs": [],
   "source": [
    "dfNewcomers[\"Year\"] = pd.to_numeric(dfNewcomers[\"Year\"])\n",
    "dfNewcomers[\"Publication\"] = pd.to_numeric(dfNewcomers[\"Publication\"])"
   ]
  },
  {
   "cell_type": "code",
   "execution_count": null,
   "metadata": {},
   "outputs": [],
   "source": [
    "x=dfIncumbents[\"Year\"]\n",
    "y=dfIncumbents[\"Publication\"]\n",
    "\n",
    "\n",
    "\n",
    "sns_plot = sns.regplot(x, y, marker=\"+\", color=\"b\", truncate=False, x_jitter=.1, order=1)\n",
    "plt.ylabel(\"Publications\")\n",
    "\n",
    "\n",
    "fig = sns_plot.get_figure()"
   ]
  },
  {
   "cell_type": "code",
   "execution_count": null,
   "metadata": {},
   "outputs": [],
   "source": [
    "x=dfNewcomers[\"Year\"]\n",
    "y=dfNewcomers[\"Publication\"]\n",
    "\n",
    "sns_plot = sns.regplot(x, y, marker=\"+\", color=\"b\", truncate=False, x_jitter=.1, order=1)\n",
    "plt.ylabel(\"Publications\")\n",
    "# scatter_kws = {\"color\": \"blue\", \"alpha\": 0.8}, line_kws = {\"color\": \"#CCCC00\", \"alpha\": 0.3}\n",
    "\n",
    "fig = sns_plot.get_figure()"
   ]
  },
  {
   "cell_type": "code",
   "execution_count": null,
   "metadata": {},
   "outputs": [],
   "source": [
    "x1=dfNewcomers[\"Year\"]\n",
    "y1=dfNewcomers[\"Publication\"]\n",
    "\n",
    "x2=dfIncumbents[\"Year\"]\n",
    "y2=dfIncumbents[\"Publication\"]\n",
    "\n",
    "sns_plot = sns.regplot(x1, y1, marker=\"+\", color=\"b\", truncate=False, x_jitter=.1, order=1)\n",
    "sns_plot = sns.regplot(x2, y2, marker=\".\", color=\"g\", truncate=False, x_jitter=.1, order=1)\n",
    "\n",
    "plt.xlabel(\"Year\")\n",
    "plt.ylabel(\"Publications\")\n",
    "\n",
    "plt.legend([\"Newcomers\",\"Incumbents\"])\n",
    "\n",
    "fig = sns_plot.get_figure()"
   ]
  },
  {
   "cell_type": "code",
   "execution_count": null,
   "metadata": {},
   "outputs": [],
   "source": [
    "newcomersContribution = pd.read_csv(addressBook[\"excel\"]+\"newcomersContribution.csv\", sep=\";\")\n",
    "x=newcomersContribution[\"Year\"]\n",
    "y=newcomersContribution[\"Incumbents\"]/newcomersContribution[\"Aggregated Newcomers\"]\n",
    "\n",
    "sns_plot = sns.regplot(x, y, marker=\".\", color=\"b\", truncate=False, x_jitter=.1, order=1)\n",
    "\n",
    "plt.xlabel(\"Year\")\n",
    "plt.ylabel(\"Newcomers contribution\")\n",
    "\n",
    "fig = sns_plot.get_figure()"
   ]
  },
  {
   "cell_type": "code",
   "execution_count": null,
   "metadata": {},
   "outputs": [],
   "source": [
    "authorsDict = {}\n",
    "for doi, paper in allPapers.items():\n",
    "    authors = [auth.strip() for auth in paper[\"AU\"].split(\";\")]\n",
    "    if len(authors)!=0:\n",
    "        for author in authors:\n",
    "            if author in authorsDict.keys():\n",
    "                authorsDict[author]+=1\n",
    "            else:\n",
    "                authorsDict[author]=1"
   ]
  },
  {
   "cell_type": "code",
   "execution_count": null,
   "metadata": {},
   "outputs": [],
   "source": [
    "authorsDataFrame = pd.DataFrame.from_dict(authorsDict, orient=\"index\")"
   ]
  },
  {
   "cell_type": "code",
   "execution_count": null,
   "metadata": {},
   "outputs": [],
   "source": [
    "authorsDataFrame.reset_index(inplace=True)\n",
    "authorsDataFrame = authorsDataFrame.rename(index=str , columns={0:\"Publications Count\", \"index\":\"Author\"})"
   ]
  },
  {
   "cell_type": "code",
   "execution_count": null,
   "metadata": {},
   "outputs": [],
   "source": [
    "authorsCountDataFrame = authorsDataFrame.groupby(\"Publications Count\").count().reset_index().rename(columns={\"Publications Count\":\"Number of Publications\",\"Author\":\"Author Count\"})"
   ]
  },
  {
   "cell_type": "code",
   "execution_count": null,
   "metadata": {},
   "outputs": [],
   "source": [
    "sum = 0\n",
    "newAuthorsCountDataFrame = pd.DataFrame(columns=[\"Number of Publications\", \"Author Count\"])\n",
    "for i in range(0,len(authorsCountDataFrame)):\n",
    "    if i==0:\n",
    "        newAuthorsCountDataFrame.loc[i] = [\"Newcomers publications\", authorsCountDataFrame.loc[i][\"Author Count\"]]    \n",
    "    elif i>0:\n",
    "        sum += authorsCountDataFrame.loc[i][\"Author Count\"]\n",
    "newAuthorsCountDataFrame.loc[3]=[\"Incumbents publications\", sum]"
   ]
  },
  {
   "cell_type": "code",
   "execution_count": null,
   "metadata": {},
   "outputs": [],
   "source": [
    "newAuthorsCountDataFrame\n",
    "colors = ['deepskyblue', 'lightcyan']\n",
    "plt.pie(\n",
    "    # using data total)arrests\n",
    "    newAuthorsCountDataFrame['Author Count'],\n",
    "    # with the labels being officer names\n",
    "    labels=newAuthorsCountDataFrame['Number of Publications'],\n",
    "    # with no shadows\n",
    "    shadow=True,\n",
    "    # with colors\n",
    "    colors=colors,\n",
    "    # with one slide exploded out\n",
    "    explode=(0, 0.2),\n",
    "    # with the start angle at 90%\n",
    "    startangle=45,\n",
    "    # with the percent listed as a fraction\n",
    "    autopct='%1.1f%%',\n",
    "    )\n",
    "plt.axis('equal')\n",
    "\n",
    "# View the plot\n",
    "plt.tight_layout()\n",
    "plt.show()"
   ]
  }
 ],
 "metadata": {
  "kernelspec": {
   "display_name": "Python 3 (ipykernel)",
   "language": "python",
   "name": "python3"
  },
  "language_info": {
   "codemirror_mode": {
    "name": "ipython",
    "version": 3
   },
   "file_extension": ".py",
   "mimetype": "text/x-python",
   "name": "python",
   "nbconvert_exporter": "python",
   "pygments_lexer": "ipython3",
   "version": "3.9.7"
  }
 },
 "nbformat": 4,
 "nbformat_minor": 4
}
