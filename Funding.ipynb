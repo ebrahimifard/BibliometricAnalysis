{
 "cells": [
  {
   "cell_type": "markdown",
   "metadata": {},
   "source": [
    "# Funding Agencies"
   ]
  },
  {
   "cell_type": "code",
   "execution_count": 1,
   "metadata": {},
   "outputs": [],
   "source": [
    "import pandas as pd\n",
    "import pickle as pk\n",
    "import matplotlib.pyplot as plt\n",
    "import operator\n",
    "import re\n",
    "import seaborn as sns"
   ]
  },
  {
   "cell_type": "code",
   "execution_count": 2,
   "metadata": {},
   "outputs": [],
   "source": [
    "sns.set()"
   ]
  },
  {
   "cell_type": "code",
   "execution_count": 3,
   "metadata": {},
   "outputs": [],
   "source": [
    "addressBook = {\"serializedData\" : \"./SerializedData/\"}"
   ]
  },
  {
   "cell_type": "code",
   "execution_count": 4,
   "metadata": {},
   "outputs": [],
   "source": [
    "allPapers = pk.loads(open(addressBook[\"serializedData\"]+\"allPapers.dic\", \"rb\").read())\n",
    "annualPapers = pk.loads(open(addressBook[\"serializedData\"]+\"annualPapers.dic\", \"rb\").read())"
   ]
  },
  {
   "cell_type": "code",
   "execution_count": 5,
   "metadata": {},
   "outputs": [],
   "source": [
    "cleaningDict = {\"NSF\":\"National Science Foundation\", \n",
    "               \"NSFC\":\"National Natural Science Foundation of China\",\n",
    "               \"ESRC\":\"Economic and Social Research Council\",\n",
    "               \"National Science Foundation (NSF)\":\"National Science Foundation\",\n",
    "               \"U.S. National Science Foundation\":\"National Science Foundation\",\n",
    "               \"EU\":\"European Union\",\n",
    "               \"NIH\":\"National Institutes of Health\",\n",
    "               \"ERC\":\"European Research Council\",\n",
    "               \"Natural Science Foundation of China\":\"National Natural Science Foundation of China\"\n",
    "               }"
   ]
  },
  {
   "cell_type": "code",
   "execution_count": 6,
   "metadata": {},
   "outputs": [],
   "source": [
    "patt = re.compile('\\[.*]')\n",
    "for doi, paper in allPapers.items():\n",
    "    agencies = [patt.sub(\"\",agc).replace('\"','').strip() for agc in paper[\"FU\"].split(\";\") if (paper[\"FU\"] != '' and paper[\"FU\"] != ' ')]\n",
    "    newAgencies = []\n",
    "    for agc in agencies:\n",
    "        if agc in cleaningDict:\n",
    "#             print(True)\n",
    "            newAgencies.append(cleaningDict[agc])\n",
    "        else:\n",
    "            newAgencies.append(agc)\n",
    "    paper[\"FU\"] = newAgencies\n",
    "    if \"NSFC\" in newAgencies:\n",
    "        print(True)"
   ]
  },
  {
   "cell_type": "code",
   "execution_count": 7,
   "metadata": {},
   "outputs": [],
   "source": [
    "patt = re.compile('\\[.*]')\n",
    "for year, papers in annualPapers.items():\n",
    "    for doi, paper in papers.items():\n",
    "        agencies = [patt.sub(\"\",agc).replace('\"','').strip() for agc in paper[\"FU\"].split(\";\") if (paper[\"FU\"] != '' and paper[\"FU\"] != ' ')]\n",
    "        newAgencies = []\n",
    "        for agc in agencies:\n",
    "            if agc in cleaningDict:\n",
    "                newAgencies.append(cleaningDict[agc])\n",
    "            else:\n",
    "                newAgencies.append(agc)\n",
    "        paper[\"FU\"] = newAgencies"
   ]
  },
  {
   "cell_type": "code",
   "execution_count": 8,
   "metadata": {},
   "outputs": [],
   "source": [
    "yearlyFundings = {}\n",
    "for year, papers in annualPapers.items():\n",
    "    yearlyFundings[year] = 0\n",
    "    for doi,paper in papers.items():\n",
    "        yearlyFundings[year]+=len(paper[\"FU\"])"
   ]
  },
  {
   "cell_type": "code",
   "execution_count": 9,
   "metadata": {},
   "outputs": [],
   "source": [
    "yearlyFundingsDataFrame = pd.DataFrame({\"Year\":[int(y) for y in yearlyFundings.keys()],\"Number of Funding Agencies\":[n for n in yearlyFundings.values()]})\n",
    "yearlyFundingsDataFrame = yearlyFundingsDataFrame.drop([78], axis='index')"
   ]
  },
  {
   "cell_type": "code",
   "execution_count": 10,
   "metadata": {},
   "outputs": [
    {
     "data": {
      "image/png": "[encoded data removed]",
      "text/plain": [
       "<Figure size 432x288 with 1 Axes>"
      ]
     },
     "metadata": {},
     "output_type": "display_data"
    }
   ],
   "source": [
    "x=yearlyFundingsDataFrame[\"Year\"]\n",
    "y=yearlyFundingsDataFrame[\"Number of Funding Agencies\"]\n",
    "\n",
    "sns_plot = sns.regplot(x, y, marker=\"+\", color=\"b\", truncate=False, x_jitter=.1, order=1)\n",
    "plt.ylabel(\"Number of fundings\")\n",
    "\n",
    "fig = sns_plot.get_figure()"
   ]
  },
  {
   "cell_type": "code",
   "execution_count": 11,
   "metadata": {},
   "outputs": [],
   "source": [
    "allFunds = {}\n",
    "\n",
    "for doi, paper in allPapers.items():\n",
    "    if len(paper[\"FU\"]) > 0:\n",
    "        for fund in paper[\"FU\"]:\n",
    "            if fund in allFunds.keys():\n",
    "                allFunds[fund] += 1\n",
    "            else:\n",
    "                allFunds[fund] = 1"
   ]
  },
  {
   "cell_type": "code",
   "execution_count": 12,
   "metadata": {},
   "outputs": [],
   "source": [
    "funds = {}\n",
    "\n",
    "for year, papers in annualPapers.items():\n",
    "    funds[year] = {}\n",
    "    for doi, paper in papers.items():\n",
    "        if len(paper[\"FU\"]) > 0:\n",
    "            for fund in paper[\"FU\"]:\n",
    "                if fund in funds[year].keys():\n",
    "                    funds[year][fund] += 1\n",
    "                else:\n",
    "                    funds[year][fund] = 1"
   ]
  },
  {
   "cell_type": "code",
   "execution_count": 13,
   "metadata": {},
   "outputs": [],
   "source": [
    "fundsYearlyCount = {}\n",
    "for year, fund in funds.items():\n",
    "    fundsYearlyCount[year] = len(fund)"
   ]
  },
  {
   "cell_type": "code",
   "execution_count": 14,
   "metadata": {},
   "outputs": [],
   "source": [
    "fundsYearlyCountDataFrame = pd.DataFrame({\"Year\":[int(y) for y in fundsYearlyCount.keys()],\"Variety of Funding Agencies\":[v for v in fundsYearlyCount.values()]})"
   ]
  },
  {
   "cell_type": "code",
   "execution_count": 15,
   "metadata": {},
   "outputs": [],
   "source": [
    "fundsYearlyCountDataFrame = fundsYearlyCountDataFrame.drop([78], axis='index')"
   ]
  },
  {
   "cell_type": "code",
   "execution_count": 16,
   "metadata": {},
   "outputs": [
    {
     "data": {
      "image/png": "[encoded data removed]",
      "text/plain": [
       "<Figure size 432x288 with 1 Axes>"
      ]
     },
     "metadata": {},
     "output_type": "display_data"
    }
   ],
   "source": [
    "x=fundsYearlyCountDataFrame[\"Year\"]\n",
    "y=fundsYearlyCountDataFrame[\"Variety of Funding Agencies\"]\n",
    "\n",
    "sns_plot = sns.regplot(x, y, marker=\"+\", color=\"b\", truncate=False, x_jitter=.1, order=1)\n",
    "plt.ylabel(\"Variety of funding agencies\")\n",
    "\n",
    "fig = sns_plot.get_figure()"
   ]
  },
  {
   "cell_type": "code",
   "execution_count": 17,
   "metadata": {},
   "outputs": [],
   "source": [
    "sortedAllFundsVariety = sorted(allFunds.items(), key=operator.itemgetter(1),reverse=True)"
   ]
  },
  {
   "cell_type": "code",
   "execution_count": 18,
   "metadata": {},
   "outputs": [],
   "source": [
    "sortedAllFundsVarietyDataFrame = pd.DataFrame({\"Funding Agency\":[f[0] for f in sortedAllFundsVariety],\"Number of Fundings\":[int(n[1]) for n in sortedAllFundsVariety]})"
   ]
  },
  {
   "cell_type": "code",
   "execution_count": 19,
   "metadata": {},
   "outputs": [],
   "source": [
    "sortedAllFundsVarietyDataFrame =sortedAllFundsVarietyDataFrame.drop([7])"
   ]
  },
  {
   "cell_type": "code",
   "execution_count": 21,
   "metadata": {},
   "outputs": [
    {
     "data": {
      "image/png": "[encoded data removed]",
      "text/plain": [
       "<Figure size 432x288 with 1 Axes>"
      ]
     },
     "metadata": {},
     "output_type": "display_data"
    }
   ],
   "source": [
    "sortedAllFundsVarietyDataFrame.plot.hist(bins=150, legend=False, loglog=True)\n",
    "plt.xlabel(\"Number of fundings\")\n",
    "plt.ylabel(\"Number of funding agencies\")\n",
    "plt.show()"
   ]
  }
 ],
 "metadata": {
  "kernelspec": {
   "display_name": "Python 3 (ipykernel)",
   "language": "python",
   "name": "python3"
  },
  "language_info": {
   "codemirror_mode": {
    "name": "ipython",
    "version": 3
   },
   "file_extension": ".py",
   "mimetype": "text/x-python",
   "name": "python",
   "nbconvert_exporter": "python",
   "pygments_lexer": "ipython3",
   "version": "3.9.7"
  }
 },
 "nbformat": 4,
 "nbformat_minor": 4
}
