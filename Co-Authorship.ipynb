{
 "cells": [
  {
   "cell_type": "markdown",
   "metadata": {},
   "source": [
    "# Co-Authorship"
   ]
  },
  {
   "cell_type": "code",
   "execution_count": 1,
   "metadata": {},
   "outputs": [],
   "source": [
    "import networkx as nx\n",
    "import pickle as pk\n",
    "from itertools import combinations\n",
    "import pandas as pd\n",
    "import matplotlib.pyplot as plt"
   ]
  },
  {
   "cell_type": "code",
   "execution_count": 3,
   "metadata": {},
   "outputs": [],
   "source": [
    "allPapers = pk.loads(open(addressBook[\"serializedData\"]+\"allPapers.dic\", \"rb\").read())\n",
    "annualPapers = pk.loads(open(addressBook[\"serializedData\"]+\"annualPapers.dic\", \"rb\").read())"
   ]
  },
  {
   "cell_type": "markdown",
   "metadata": {},
   "source": [
    "First, we want to show the static network"
   ]
  },
  {
   "cell_type": "markdown",
   "metadata": {},
   "source": [
    "Making the dictionary of edges. Each key denotes an edge and the corrosponding value, shows the weight of that edge"
   ]
  },
  {
   "cell_type": "code",
   "execution_count": 4,
   "metadata": {},
   "outputs": [],
   "source": [
    "coauthorshipDict = {}\n",
    "nodes = set()\n",
    "for doi, paper in allPapers.items():\n",
    "    authors = [auth.strip() for auth in paper[\"AU\"].split(\";\")]\n",
    "    if len(authors) == 0:\n",
    "        continue\n",
    "    elif len(authors) == 1:\n",
    "        nodes.add(authors[0])\n",
    "        if (authors[0],authors[0]) in coauthorshipDict.keys():\n",
    "            coauthorshipDict[(authors[0],authors[0])] += 1\n",
    "        else:\n",
    "            coauthorshipDict[(authors[0], authors[0])] = 1\n",
    "    else:\n",
    "        authors = list(combinations(authors,2))\n",
    "        for state in authors:\n",
    "            nodes.add(state[0])\n",
    "            nodes.add(state[1])\n",
    "            reversedState = state[::-1]\n",
    "            if state in coauthorshipDict.keys():\n",
    "                coauthorshipDict[state] += 1\n",
    "            elif reversedState in coauthorshipDict.keys():\n",
    "                coauthorshipDict[reversedState] += 1\n",
    "            else:\n",
    "                coauthorshipDict[state] = 1"
   ]
  },
  {
   "cell_type": "markdown",
   "metadata": {},
   "source": [
    "Creating 3-tuples of the edge dictionary becasue networkx needs 3-tuple to build a weighted network"
   ]
  },
  {
   "cell_type": "code",
   "execution_count": 5,
   "metadata": {},
   "outputs": [],
   "source": [
    "threeTupleDic = []\n",
    "for edge, weight in coauthorshipDict.items():\n",
    "    threeTupleDic.append((edge[0],edge[1],weight))"
   ]
  },
  {
   "cell_type": "markdown",
   "metadata": {},
   "source": [
    "Then, we creat the network"
   ]
  },
  {
   "cell_type": "code",
   "execution_count": 6,
   "metadata": {},
   "outputs": [],
   "source": [
    "G1 = nx.Graph()\n",
    "G1.add_nodes_from(nodes)\n",
    "G1.add_weighted_edges_from(threeTupleDic,weight=\"weight\")\n",
    "nx.readwrite.write_gexf(G1,\"./coauthorshipNetwork.gexf\")\n",
    "nx.readwrite.write_gml(G1,\"./coauthorshipNetwork.gml\")"
   ]
  },
  {
   "cell_type": "markdown",
   "metadata": {},
   "source": [
    "Now, we want to build the dynamic graph"
   ]
  },
  {
   "cell_type": "code",
   "execution_count": 7,
   "metadata": {},
   "outputs": [],
   "source": [
    "d=0\n",
    "dynamicCoautorship = {}\n",
    "yearlyNodes = {}\n",
    "for year, papers in annualPapers.items():\n",
    "    yearlyNodes[year] = set()\n",
    "    dynamicCoautorship[year] = {}\n",
    "    for doi, paper in papers.items():\n",
    "        authors = [auth.strip() for auth in paper[\"AU\"].split(\";\")]\n",
    "        if len(authors) == 0:\n",
    "            continue\n",
    "        elif len(authors) == 1:\n",
    "            d+=1\n",
    "            yearlyNodes[year].add(authors[0])\n",
    "#             if (authors[0], authors[0]) in dynamicCoautorship[year].keys():\n",
    "#                 dynamicCoautorship[year][(authors[0], authors[0])] += 1\n",
    "#             else:\n",
    "#                 dynamicCoautorship[year][(authors[0], authors[0])] = 1\n",
    "        else:\n",
    "            authors = list(combinations(authors, 2))\n",
    "            for state in authors:\n",
    "                yearlyNodes[year].add(state[0])\n",
    "                yearlyNodes[year].add(state[1])\n",
    "                reversedState = state[::-1]\n",
    "                if state in dynamicCoautorship[year].keys():\n",
    "                    dynamicCoautorship[year][state] += 1\n",
    "                elif reversedState in dynamicCoautorship[year].keys():\n",
    "                    dynamicCoautorship[year][reversedState] += 1\n",
    "                else:\n",
    "                    dynamicCoautorship[year][state] = 1"
   ]
  },
  {
   "cell_type": "code",
   "execution_count": 8,
   "metadata": {},
   "outputs": [],
   "source": [
    "dynamicThreeTupleDic = {}\n",
    "for year, papers in dynamicCoautorship.items():\n",
    "    dynamicThreeTupleDic[year] = []\n",
    "    for edge, weight in papers.items():\n",
    "        dynamicThreeTupleDic[year].append((edge[0], edge[1], weight))"
   ]
  },
  {
   "cell_type": "code",
   "execution_count": 9,
   "metadata": {},
   "outputs": [],
   "source": [
    "graphs = {}\n",
    "for index,year in enumerate(dynamicThreeTupleDic):\n",
    "    G = nx.Graph()\n",
    "    G.add_nodes_from(yearlyNodes[year])\n",
    "    G.add_weighted_edges_from(dynamicThreeTupleDic[year], weight=\"weight\")\n",
    "    graphs[year] = G\n",
    "    nx.readwrite.write_gexf(G,f'./Coauthorship Network/{index}.gexf')"
   ]
  },
  {
   "cell_type": "code",
   "execution_count": 10,
   "metadata": {},
   "outputs": [],
   "source": [
    "for k,r in enumerate(dynamicThreeTupleDic):\n",
    "    handle = open(f'./Coauthorship Network/{r}.gexf',\"w\", newline='\\n')\n",
    "    for w, v in enumerate(open(f'./Coauthorship Network/{k}.gexf').readlines()):\n",
    "        if w==2:\n",
    "            handle.write(\"<graph mode=\\\"slice\\\" defaultedgetype=\\\"directed\\\" timerepresentation=\\\"timestamp\\\" timestamp=\\\"\" + str(r) +\"\\\">\\n\")\n",
    "        else:\n",
    "            handle.write(v)\n",
    "    handle.close()"
   ]
  },
  {
   "cell_type": "markdown",
   "metadata": {},
   "source": [
    "Now, we want to calculate the graph density during the time"
   ]
  },
  {
   "cell_type": "code",
   "execution_count": 11,
   "metadata": {},
   "outputs": [],
   "source": [
    "yearlyNodesCount = {year:len(yearlyNodes[year]) for year in yearlyNodes}"
   ]
  },
  {
   "cell_type": "code",
   "execution_count": 12,
   "metadata": {},
   "outputs": [],
   "source": [
    "graphDensity = {}\n",
    "for year in graphs:\n",
    "    graphDensity[year] = nx.density(graphs[year])"
   ]
  },
  {
   "cell_type": "code",
   "execution_count": 13,
   "metadata": {},
   "outputs": [],
   "source": [
    "df = pd.DataFrame({\"Year\":[int(y) for y in graphDensity.keys()],\"Coauthorship Density\":[v for v in graphDensity.values()]})"
   ]
  },
  {
   "cell_type": "code",
   "execution_count": 14,
   "metadata": {},
   "outputs": [
    {
     "data": {
      "image/png": "[encoded data removed]",
      "text/plain": [
       "<Figure size 432x288 with 1 Axes>"
      ]
     },
     "metadata": {},
     "output_type": "display_data"
    }
   ],
   "source": [
    "df.plot(kind=\"scatter\", x=\"Year\", y=\"Coauthorship Density\")\n",
    "plt.savefig(\"Coauthorship_Density.png\")\n",
    "plt.show()"
   ]
  },
  {
   "cell_type": "markdown",
   "metadata": {},
   "source": [
    "Now, we want to see the densification through the time"
   ]
  },
  {
   "cell_type": "code",
   "execution_count": 15,
   "metadata": {},
   "outputs": [],
   "source": [
    "densification = {}\n",
    "for year, graph in graphs.items():\n",
    "    densification[year] = graph.number_of_edges()/graph.number_of_nodes()"
   ]
  },
  {
   "cell_type": "code",
   "execution_count": 16,
   "metadata": {},
   "outputs": [],
   "source": [
    "densificationDF = pd.DataFrame.from_dict(densification, orient=\"index\").reset_index().rename(columns={\"index\":\"Year\",0:\"Densification\"})\n",
    "for col in densificationDF:\n",
    "    densificationDF[col] = pd.to_numeric(densificationDF[col])"
   ]
  },
  {
   "cell_type": "code",
   "execution_count": 17,
   "metadata": {},
   "outputs": [
    {
     "data": {
      "image/png": "[encoded data removed]",
      "text/plain": [
       "<Figure size 432x288 with 1 Axes>"
      ]
     },
     "metadata": {},
     "output_type": "display_data"
    }
   ],
   "source": [
    "densificationDF.plot(kind=\"scatter\",x=\"Year\", y=\"Densification\")\n",
    "plt.savefig(\"densification.eps\", foemat=\"eps\", dpi=1000)\n",
    "plt.show()"
   ]
  },
  {
   "cell_type": "markdown",
   "metadata": {},
   "source": [
    "Now, we want to see the evolution of path length in co-authorship network"
   ]
  },
  {
   "cell_type": "code",
   "execution_count": 15,
   "metadata": {},
   "outputs": [],
   "source": [
    "dynamicCoautorshipGraph = {}\n",
    "for year in dynamicThreeTupleDic:\n",
    "    G=nx.Graph()\n",
    "    G.add_nodes_from(yearlyNodes[year])\n",
    "    G.add_weighted_edges_from(dynamicThreeTupleDic[year])\n",
    "    dynamicCoautorshipGraph[year] = G"
   ]
  },
  {
   "cell_type": "code",
   "execution_count": 16,
   "metadata": {},
   "outputs": [],
   "source": [
    "dynamicGiantComponent = {}\n",
    "for year in dynamicCoautorshipGraph:  \n",
    "    dynamicGiantComponent[year] = max(nx.connected_component_subgraphs(dynamicCoautorshipGraph[year]),key=len)"
   ]
  },
  {
   "cell_type": "code",
   "execution_count": 17,
   "metadata": {},
   "outputs": [],
   "source": [
    "aplDynamic = {}\n",
    "for year in dynamicGiantComponent:\n",
    "    aplDynamic[year] = nx.average_shortest_path_length(dynamicGiantComponent[year])"
   ]
  },
  {
   "cell_type": "code",
   "execution_count": 18,
   "metadata": {},
   "outputs": [],
   "source": [
    "aplDynamicDataFrame = pd.DataFrame({\"year\":[int(y) for y in aplDynamic.keys()], \"Average path length\":[v for v in aplDynamic.values()]})"
   ]
  },
  {
   "cell_type": "code",
   "execution_count": 52,
   "metadata": {},
   "outputs": [
    {
     "data": {
      "image/png": "[encoded data removed]",
      "text/plain": [
       "<Figure size 432x288 with 1 Axes>"
      ]
     },
     "metadata": {},
     "output_type": "display_data"
    }
   ],
   "source": [
    "aplDynamicDataFrame.plot(kind=\"scatter\", x=\"year\", y=\"Average path length\")\n",
    "plt.savefig(\"averagePathLength.png\")\n",
    "plt.show()"
   ]
  },
  {
   "cell_type": "code",
   "execution_count": null,
   "metadata": {},
   "outputs": [],
   "source": []
  },
  {
   "cell_type": "code",
   "execution_count": null,
   "metadata": {},
   "outputs": [],
   "source": []
  }
 ],
 "metadata": {
  "kernelspec": {
   "display_name": "Python 3 (ipykernel)",
   "language": "python",
   "name": "python3"
  },
  "language_info": {
   "codemirror_mode": {
    "name": "ipython",
    "version": 3
   },
   "file_extension": ".py",
   "mimetype": "text/x-python",
   "name": "python",
   "nbconvert_exporter": "python",
   "pygments_lexer": "ipython3",
   "version": "3.9.7"
  }
 },
 "nbformat": 4,
 "nbformat_minor": 4
}
